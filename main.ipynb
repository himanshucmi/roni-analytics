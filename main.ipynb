{
 "cells": [
  {
   "cell_type": "code",
   "execution_count": 1,
   "metadata": {},
   "outputs": [],
   "source": [
    "# Importing packages\n",
    "import pandas as pd\n",
    "import numpy as np\n",
    "import matplotlib.pyplot as plt\n",
    "import matplotlib as mpl\n",
    "mpl.rcParams['agg.path.chunksize'] = 10000\n",
    "from datetime import datetime\n",
    "pd.options.mode.copy_on_write = True "
   ]
  },
  {
   "cell_type": "code",
   "execution_count": 2,
   "metadata": {},
   "outputs": [],
   "source": [
    "# Taking first 1/10th of the data due to computational constraints\n",
    "df = pd.read_csv('zrx.csv')\n",
    "df = df.loc[:len(df)/10,:]"
   ]
  },
  {
   "cell_type": "code",
   "execution_count": 3,
   "metadata": {},
   "outputs": [
    {
     "name": "stdout",
     "output_type": "stream",
     "text": [
      "<class 'pandas.core.frame.DataFrame'>\n",
      "RangeIndex: 217672 entries, 0 to 217671\n",
      "Data columns (total 4 columns):\n",
      " #   Column        Non-Null Count   Dtype \n",
      "---  ------        --------------   ----- \n",
      " 0   date          217672 non-null  object\n",
      " 1   from_address  217672 non-null  object\n",
      " 2   to_address    217672 non-null  object\n",
      " 3   value         217672 non-null  object\n",
      "dtypes: object(4)\n",
      "memory usage: 6.6+ MB\n"
     ]
    }
   ],
   "source": [
    "# Note: All the columns are of dtype object, need to convert them accordingly\n",
    "df.info()"
   ]
  },
  {
   "cell_type": "code",
   "execution_count": 4,
   "metadata": {},
   "outputs": [],
   "source": [
    "# Convert date to datetime\n",
    "df['date'] = pd.to_datetime(df['date'])"
   ]
  },
  {
   "cell_type": "code",
   "execution_count": 5,
   "metadata": {},
   "outputs": [],
   "source": [
    "# Convert value to float and to exact token value\n",
    "df['value'] = df['value'].astype(float)\n",
    "df['value'] = df['value'] / 10**18"
   ]
  },
  {
   "cell_type": "code",
   "execution_count": 6,
   "metadata": {},
   "outputs": [
    {
     "data": {
      "text/html": [
       "<div>\n",
       "<style scoped>\n",
       "    .dataframe tbody tr th:only-of-type {\n",
       "        vertical-align: middle;\n",
       "    }\n",
       "\n",
       "    .dataframe tbody tr th {\n",
       "        vertical-align: top;\n",
       "    }\n",
       "\n",
       "    .dataframe thead th {\n",
       "        text-align: right;\n",
       "    }\n",
       "</style>\n",
       "<table border=\"1\" class=\"dataframe\">\n",
       "  <thead>\n",
       "    <tr style=\"text-align: right;\">\n",
       "      <th></th>\n",
       "      <th>value</th>\n",
       "    </tr>\n",
       "  </thead>\n",
       "  <tbody>\n",
       "    <tr>\n",
       "      <th>count</th>\n",
       "      <td>2.176720e+05</td>\n",
       "    </tr>\n",
       "    <tr>\n",
       "      <th>mean</th>\n",
       "      <td>1.665950e+04</td>\n",
       "    </tr>\n",
       "    <tr>\n",
       "      <th>std</th>\n",
       "      <td>1.215709e+06</td>\n",
       "    </tr>\n",
       "    <tr>\n",
       "      <th>min</th>\n",
       "      <td>0.000000e+00</td>\n",
       "    </tr>\n",
       "    <tr>\n",
       "      <th>25%</th>\n",
       "      <td>1.000000e+02</td>\n",
       "    </tr>\n",
       "    <tr>\n",
       "      <th>50%</th>\n",
       "      <td>1.010771e+03</td>\n",
       "    </tr>\n",
       "    <tr>\n",
       "      <th>75%</th>\n",
       "      <td>7.220653e+03</td>\n",
       "    </tr>\n",
       "    <tr>\n",
       "      <th>max</th>\n",
       "      <td>5.000000e+08</td>\n",
       "    </tr>\n",
       "  </tbody>\n",
       "</table>\n",
       "</div>"
      ],
      "text/plain": [
       "              value\n",
       "count  2.176720e+05\n",
       "mean   1.665950e+04\n",
       "std    1.215709e+06\n",
       "min    0.000000e+00\n",
       "25%    1.000000e+02\n",
       "50%    1.010771e+03\n",
       "75%    7.220653e+03\n",
       "max    5.000000e+08"
      ]
     },
     "execution_count": 6,
     "metadata": {},
     "output_type": "execute_result"
    }
   ],
   "source": [
    "# Descriptive statistics about value\n",
    "df[['value']].describe()"
   ]
  },
  {
   "cell_type": "code",
   "execution_count": 7,
   "metadata": {},
   "outputs": [
    {
     "name": "stdout",
     "output_type": "stream",
     "text": [
      "<class 'pandas.core.frame.DataFrame'>\n",
      "RangeIndex: 217672 entries, 0 to 217671\n",
      "Data columns (total 4 columns):\n",
      " #   Column        Non-Null Count   Dtype              \n",
      "---  ------        --------------   -----              \n",
      " 0   date          217672 non-null  datetime64[ns, UTC]\n",
      " 1   from_address  217672 non-null  object             \n",
      " 2   to_address    217672 non-null  object             \n",
      " 3   value         217672 non-null  float64            \n",
      "dtypes: datetime64[ns, UTC](1), float64(1), object(2)\n",
      "memory usage: 6.6+ MB\n"
     ]
    }
   ],
   "source": [
    "df.info()"
   ]
  },
  {
   "cell_type": "code",
   "execution_count": 9,
   "metadata": {},
   "outputs": [
    {
     "data": {
      "image/png": "[encoded data removed]",
      "text/plain": [
       "<Figure size 640x480 with 1 Axes>"
      ]
     },
     "metadata": {},
     "output_type": "display_data"
    }
   ],
   "source": [
    "# In order to keep track of everyday balance, the transactions should be in sorted order \n",
    "# The line should be a continuous curve\n",
    "plt.plot(df['date'].values, np.linspace(0, 100, len(df)))\n",
    "plt.show()"
   ]
  },
  {
   "cell_type": "code",
   "execution_count": 10,
   "metadata": {},
   "outputs": [],
   "source": [
    "# Sorted data frame by date\n",
    "df.sort_values(by='date', ignore_index=True, inplace=True)"
   ]
  },
  {
   "cell_type": "code",
   "execution_count": 11,
   "metadata": {},
   "outputs": [
    {
     "data": {
      "image/png": "[encoded data removed]",
      "text/plain": [
       "<Figure size 640x480 with 1 Axes>"
      ]
     },
     "metadata": {},
     "output_type": "display_data"
    }
   ],
   "source": [
    "# Sorted w.r.t. date\n",
    "plt.plot(df['date'].values, np.linspace(0, 100, len(df)))\n",
    "plt.show()"
   ]
  },
  {
   "cell_type": "code",
   "execution_count": 13,
   "metadata": {},
   "outputs": [
    {
     "data": {
      "text/plain": [
       "date\n",
       "2017-12-11 04:59:49+00:00    179\n",
       "2017-08-19 04:17:54+00:00    163\n",
       "2020-12-02 10:33:07+00:00    133\n",
       "2017-08-19 04:17:44+00:00    132\n",
       "2020-12-02 10:34:28+00:00    131\n",
       "                            ... \n",
       "2018-09-25 04:33:26+00:00      1\n",
       "2018-09-25 04:32:57+00:00      1\n",
       "2018-09-25 04:26:00+00:00      1\n",
       "2018-09-25 04:20:14+00:00      1\n",
       "2022-05-05 23:58:23+00:00      1\n",
       "Name: count, Length: 150451, dtype: int64"
      ]
     },
     "execution_count": 13,
     "metadata": {},
     "output_type": "execute_result"
    }
   ],
   "source": [
    "# Note: Multiple transactions at a single point of time\n",
    "df['date'].value_counts()"
   ]
  },
  {
   "cell_type": "code",
   "execution_count": 14,
   "metadata": {},
   "outputs": [],
   "source": [
    "# Taking out the date only from the date column\n",
    "df['date'] = [datetime.strftime(d, '%Y-%m-%d') for d in df['date']]\n",
    "df['date'] = [datetime.strptime(d, '%Y-%m-%d') for d in df['date']]"
   ]
  },
  {
   "cell_type": "code",
   "execution_count": 20,
   "metadata": {},
   "outputs": [],
   "source": [
    "# Calculates the net balance of each address on each date\n",
    "def getNetBalance(df):\n",
    "    df['from_balance'] = df['value']\n",
    "    df['to_balance'] = df['value']\n",
    "\n",
    "    # Create a new data frame with all the addresses on each date\n",
    "    addresses = pd.concat([df['from_address'], df['to_address']]).unique()\n",
    "    dates = df['date'].unique()\n",
    "    df_final = pd.MultiIndex.from_product([dates, addresses], names=['date', 'address']).to_frame(index=False)\n",
    "    \n",
    "    # Merge the data w.r.t from_address and to_address\n",
    "    df_final_from = df_final.merge(df[['date', 'from_address', 'from_balance']], how='left', left_on=['date', 'address'], right_on=['date', 'from_address'])\n",
    "    df_final_from = df_final_from[['date', 'address', 'from_balance']]\n",
    "\n",
    "    df_final_to = df_final.merge(df[['date', 'to_address', 'to_balance']], how='left', left_on=['date', 'address'], right_on=['date', 'to_address'])\n",
    "    df_final_to = df_final_to[['date', 'address', 'to_balance']]\n",
    "\n",
    "    # Add the from_balance and to_balance\n",
    "    df_final_from = df_final_from.groupby(['date', 'address'])[['from_balance']].sum()\n",
    "    df_final_to = df_final_to.groupby(['date', 'address'])[['to_balance']].sum()\n",
    "\n",
    "    # Calculate the net balance\n",
    "    df_final_net = pd.DataFrame(df_final_to['to_balance'] - df_final_from['from_balance'],columns=['net_balance'])\n",
    "    df_final_net.reset_index(['date', 'address'], inplace=True)\n",
    "    df_final_net['net_balance'] = df_final_net.groupby('address')['net_balance'].cumsum()\n",
    "    return df_final_net"
   ]
  },
  {
   "cell_type": "code",
   "execution_count": 26,
   "metadata": {},
   "outputs": [],
   "source": [
    "def gini(x):\n",
    "    x = x.values\n",
    "    x = x.flatten()\n",
    "    if np.amin(x) < 0:\n",
    "        x = x - np.amin(x)\n",
    "    x = x + 10**-7\n",
    "    x = np.sort(x)\n",
    "    n = x.shape[0]\n",
    "    index = np.arange(1, n+1)\n",
    "    return ((np.sum((2 * index - n  - 1) * x)) / (n * np.sum(x)))"
   ]
  },
  {
   "cell_type": "code",
   "execution_count": 21,
   "metadata": {},
   "outputs": [],
   "source": [
    "# Data frame with date, address, net balance\n",
    "df_net = getNetBalance(df)"
   ]
  },
  {
   "cell_type": "code",
   "execution_count": 27,
   "metadata": {},
   "outputs": [],
   "source": [
    "# Creating the final data frame with date and gini coefficient\n",
    "df_final = pd.DataFrame(columns=['date', 'gini'])\n",
    "df_final['date'] = df_net['date'].unique()"
   ]
  },
  {
   "cell_type": "code",
   "execution_count": 31,
   "metadata": {},
   "outputs": [],
   "source": [
    "# Calculating the gini coefficient for each date\n",
    "ginivals = df_net.groupby('date')['net_balance'].apply(gini).values\n",
    "df_final['gini'] = ginivals"
   ]
  },
  {
   "cell_type": "code",
   "execution_count": 50,
   "metadata": {},
   "outputs": [
    {
     "data": {
      "image/png": "[encoded data removed]",
      "text/plain": [
       "<Figure size 640x480 with 1 Axes>"
      ]
     },
     "metadata": {},
     "output_type": "display_data"
    }
   ],
   "source": [
    "# Plotting the gini coefficient\n",
    "plt.plot(df_final['date'], df_final['gini'])\n",
    "plt.title('Gini Coefficient')\n",
    "plt.show()"
   ]
  }
 ],
 "metadata": {
  "kernelspec": {
   "display_name": "Python 3",
   "language": "python",
   "name": "python3"
  },
  "language_info": {
   "codemirror_mode": {
    "name": "ipython",
    "version": 3
   },
   "file_extension": ".py",
   "mimetype": "text/x-python",
   "name": "python",
   "nbconvert_exporter": "python",
   "pygments_lexer": "ipython3",
   "version": "3.12.1"
  }
 },
 "nbformat": 4,
 "nbformat_minor": 2
}
